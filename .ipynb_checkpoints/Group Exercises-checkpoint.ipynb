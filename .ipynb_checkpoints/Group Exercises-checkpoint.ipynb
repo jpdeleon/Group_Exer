{
 "cells": [
  {
   "cell_type": "markdown",
   "metadata": {},
   "source": [
    "<h1 id=\"tocheading\">Table of Contents</h1>\n",
    "<div id=\"toc\"></div>"
   ]
  },
  {
   "cell_type": "code",
   "execution_count": null,
   "metadata": {
    "collapsed": false
   },
   "outputs": [],
   "source": [
    "%%javascript\n",
    "$.getScript('https://kmahelona.github.io/ipython_notebook_goodies/ipython_notebook_toc.js')"
   ]
  },
  {
   "cell_type": "markdown",
   "metadata": {},
   "source": [
    "# Exercises in Python\n",
    "\n",
    "**Instructions**: For each problem, complete the code by filling in the blanks \"___\". If you want to see the solution(s), run the next cell containing the magic function that says something like `% load solutions/file_name.py`. It basically copies the code contained in the solutions folder.\n",
    "\n",
    "Most of the programs require `numpy` and `matplotlib`. Make sure you have installed them already. If not, install them (via the terminal) as:\n",
    "> $ pip install numpy, matplotlib\n",
    "\n",
    "Note that a cell may depend on the output of previous cell so make sure you run it.\n",
    "\n",
    "References:\n",
    "1. [Teaching Physics with Python (slides-pdf)](https://www.iop.org/activity/groups/subject/hed/eventsresources/file_66080.pdf)\n",
    "2. [Python programming for physicists (book-pdf)](http://www-personal.umich.edu/~mejn/cp/chapters.html)\n",
    "3. [Hubble's Law (ipynb)](http://adamdempsey90.github.io/python/dark_energy/dark_energy.html)"
   ]
  },
  {
   "cell_type": "code",
   "execution_count": null,
   "metadata": {
    "collapsed": false
   },
   "outputs": [],
   "source": [
    "# Hello! This is a comment. This line does nothing at all.\n",
    "print('To run the code in this cell, follow see below:')"
   ]
  },
  {
   "cell_type": "code",
   "execution_count": null,
   "metadata": {
    "collapsed": true
   },
   "outputs": [],
   "source": [
    "# To use libraries, use `import`, for example:\n",
    "\n",
    "from __future__ import print_function #for nice text display in notebook"
   ]
  },
  {
   "cell_type": "code",
   "execution_count": null,
   "metadata": {
    "collapsed": true
   },
   "outputs": [],
   "source": []
  },
  {
   "cell_type": "markdown",
   "metadata": {},
   "source": [
    "## Preamble: About Jupyter Notebooks\n",
    "\n",
    "* You can run a cell by pressing ``[ctrl] + [Enter]``, or ``[shift] + [Enter]`` (also proceeds to next cell), or by pressing the \"play\" button in the menu.\n",
    "\n",
    "![](figures/ipython_run_cell.png)\n",
    "\n",
    "* You can get help on a function or object by pressing ``[shift] + [tab]`` after the opening parenthesis ``function(``\n",
    "\n",
    "![](figures/ipython_help-1.png)\n",
    "\n",
    "* You can also get help by executing ``function?``\n",
    "\n",
    "![](figures/ipython_help-2.png)"
   ]
  },
  {
   "cell_type": "markdown",
   "metadata": {},
   "source": [
    "## I. The appetizer"
   ]
  },
  {
   "cell_type": "markdown",
   "metadata": {},
   "source": [
    "### Convert 180 degrees to radian."
   ]
  },
  {
   "cell_type": "code",
   "execution_count": null,
   "metadata": {
    "collapsed": false
   },
   "outputs": [],
   "source": [
    "#define pi\n",
    "pi=3.14\n",
    "\n",
    "#input degree\n",
    "degree = 180\n",
    "\n",
    "#output radian\n",
    "radian = degree*(pi/180)\n",
    "\n",
    "#print result\n",
    "print(radian)"
   ]
  },
  {
   "cell_type": "code",
   "execution_count": null,
   "metadata": {
    "collapsed": false
   },
   "outputs": [],
   "source": [
    "#convert any degrees to radian\n",
    "pi=3.14\n",
    "degree = float(input(\"Input degrees: \"))\n",
    "radian = degree*(pi/180)\n",
    "print(radian)"
   ]
  },
  {
   "cell_type": "markdown",
   "metadata": {},
   "source": [
    "### Calculate surface volume and area of a cylinder."
   ]
  },
  {
   "cell_type": "code",
   "execution_count": null,
   "metadata": {
    "collapsed": true
   },
   "outputs": [],
   "source": [
    "# define pi, input height and radius\n",
    "pi=3.14\n",
    "height = 2\n",
    "radius = 3\n",
    "\n",
    "#calculate volume\n",
    "volume = pi * radian * radius * height\n",
    "#calculate surface area\n",
    "surface_area = ((2*pi*radius) * height) + ((pi*radius**2)*2)"
   ]
  },
  {
   "cell_type": "code",
   "execution_count": null,
   "metadata": {
    "collapsed": false
   },
   "outputs": [],
   "source": [
    "#fancy solution\n",
    "\n",
    "pi=22/7\n",
    "height = float(input('Height of cylinder: '))\n",
    "radian = float(input('Radius of cylinder: '))\n",
    "volume = pi * radian * radian * height\n",
    "sur_area = ((2*pi*radian) * height) + ((pi*radian**2)*2)\n",
    "print(\"Volume is: \", volume)\n",
    "print(\"Surface Area is: \", sur_area)"
   ]
  },
  {
   "cell_type": "markdown",
   "metadata": {},
   "source": [
    "### Calculate the sum of all digits of the base to the specified power."
   ]
  },
  {
   "cell_type": "code",
   "execution_count": null,
   "metadata": {
    "collapsed": false
   },
   "outputs": [],
   "source": [
    "def power_base_sum(base, power):\n",
    "    return sum([int(i) for i in str(pow(base, power))])\n",
    "\n",
    "\n",
    "print(power_base_sum(2, 100))\n",
    "print(power_base_sum(8, 10))"
   ]
  },
  {
   "cell_type": "markdown",
   "metadata": {},
   "source": [
    "### Distance between two points on a sphere\n",
    "Calculate distance between two points given latitude and longitude using\n",
    "$$\n",
    "d = 6371.01 \\cos^{-1}[\\sin(lat_{start})\\sin(lat_{end}) + \\cos(lat_{start})\\cos(lat_{end})\\cos(lon_{start} - lon_{end})]\n",
    "$$\n",
    "(in radians) between the following pair of locations:\n",
    "1. Jolo, Sulu (6.0474° N, 121.0090° E) and Batanes (20.4485° N, 121.9708° E)\n",
    "2. Manila (14.5995° N, 120.9842° E) and Washington, DC (38.9072° N, 77.0369° W"
   ]
  },
  {
   "cell_type": "code",
   "execution_count": null,
   "metadata": {
    "collapsed": false
   },
   "outputs": [],
   "source": [
    "#import trigo functions from math library and abbreviate as m\n",
    "import math as m\n",
    "\n",
    "#define the given\n",
    "slat = __\n",
    "slon = __\n",
    "elat = __\n",
    "elon = __\n",
    "\n",
    "#convert into radians using m.radians()\n",
    "slat = m.radians(slat)\n",
    "slon = m.radians(slon)\n",
    "elat = ___(___)\n",
    "elon = ___(___)\n",
    "\n",
    "#calculate distance using variable `dist`; acos refers to arccos\n",
    "dist = 6371.01 * m.acos(sin(slat)*m.sin(elat) + m.cos(slat)*m.cos(elat)*m.cos(slon - elon))\n",
    "\n",
    "#print result\n",
    "print(\"The distance is %.2f km.\" % dist)"
   ]
  },
  {
   "cell_type": "markdown",
   "metadata": {},
   "source": [
    "Run cell below to load the solution. Run it again to execute code."
   ]
  },
  {
   "cell_type": "code",
   "execution_count": null,
   "metadata": {
    "collapsed": true
   },
   "outputs": [],
   "source": [
    "% load solutions/distance.py"
   ]
  },
  {
   "cell_type": "markdown",
   "metadata": {},
   "source": [
    "### Find the roots of a quadratic function."
   ]
  },
  {
   "cell_type": "code",
   "execution_count": null,
   "metadata": {
    "collapsed": true
   },
   "outputs": [],
   "source": [
    "#import sqrt from math library\n",
    "from math import sqrt\n",
    "\n",
    "#give any arbitrary constants of quadratic equation (must be float)\n",
    "a, b, c = __, __, __\n",
    "\n",
    "#define quadratic root equation\n",
    "r = ___**2 - 4*___*___\n",
    "\n",
    "#use if statements: if r >0, else if r = 0, and else\n",
    "if __ > __:\n",
    "    #there are 2 roots, x1 and x2\n",
    "    x1 = (((-___) + sqrt(___))/(2*___)) \n",
    "    # and similarly for x2\n",
    "    x2 = ___\n",
    "    #print x1 and x2; use %f to insert answer in the print statement\n",
    "    print(\"There are 2 roots: %f and %f\" % (___, ___))\n",
    "    \n",
    "elif __ == __:\n",
    "    #there is one root, x\n",
    "    x = ___\n",
    "    #print x\n",
    "    print(\"There is one root: \", x)\n",
    "    \n",
    "else:\n",
    "    #tell that \"No roots, discriminant < 0.\"\n",
    "    print(___)\n",
    "    exit()"
   ]
  },
  {
   "cell_type": "markdown",
   "metadata": {},
   "source": [
    "Run cell below to load the solution. Run it again to execute code."
   ]
  },
  {
   "cell_type": "code",
   "execution_count": null,
   "metadata": {
    "collapsed": false
   },
   "outputs": [],
   "source": [
    "% load solutions/quadroot.py"
   ]
  },
  {
   "cell_type": "markdown",
   "metadata": {},
   "source": [
    "### Print a complex number and its real and imaginary parts."
   ]
  },
  {
   "cell_type": "code",
   "execution_count": null,
   "metadata": {
    "collapsed": true
   },
   "outputs": [],
   "source": [
    "#Input real and imaginary parts of a complex number called cn\n",
    "\n",
    "real, imaginary = ___, ___\n",
    "cn = complex(real,imaginary)\n",
    "\n",
    "print(\"Complex Number: \", cn)\n",
    "#access real and imaginary component of cn using cn.real and cn.imag\n",
    "print(\"Complex Number - Real part: \", cn.real)\n",
    "print(\"Complex Number - Imaginary part: \", ___)"
   ]
  },
  {
   "cell_type": "markdown",
   "metadata": {},
   "source": [
    "### Compute the length and the angle of a complex number."
   ]
  },
  {
   "cell_type": "code",
   "execution_count": null,
   "metadata": {
    "collapsed": false
   },
   "outputs": [],
   "source": [
    "import cmath\n",
    "\n",
    "#Input real and imaginary parts of a complex number called cn\n",
    "real, imaginary = ___, ___\n",
    "cn = complex(real,imaginary)\n",
    "\n",
    "print(\"\\n\") #space\n",
    "#use abs() to compute the length of a complex number\n",
    "print(\"Length of a complex number: \", abs(___))\n",
    "\n",
    "#use cmath.phase() to compute the angle and return in radians, between  [-π, π]\n",
    "#use also cmath.phase(0+1j) for example; j stands for imaginary\n",
    "print(\"Complex number Angle: \",cmath.phase(cn) )"
   ]
  },
  {
   "cell_type": "markdown",
   "metadata": {},
   "source": [
    "### Convert polar coordinates to rectangular coordinates."
   ]
  },
  {
   "cell_type": "code",
   "execution_count": null,
   "metadata": {
    "collapsed": false
   },
   "outputs": [],
   "source": [
    "import cmath\n",
    "cn = complex(3,4)\n",
    "# get polar coordinates\n",
    "print(\"Polar Coordinates: \",cmath.polar(cn))\n",
    "\n",
    "# polar to rectangular. Format for input is (length, ‹angle in radians›).\n",
    "#Returns a complex number\n",
    "cn1 = cmath.rect(2, cmath.pi)\n",
    "print(\"Polar to rectangular: \",cn1, \"\\n\")"
   ]
  },
  {
   "cell_type": "markdown",
   "metadata": {},
   "source": [
    "### A ball dropped from a tower\n",
    "\n",
    "A ball is dropped from a tower of height $h$. It has\n",
    "initial velocity zero and accelerates downwards under gravity. The challenge\n",
    "is to write a program that asks the user to enter the height in meters of the\n",
    "tower and a time interval $t$ in seconds, then prints on the screen the height of\n",
    "the ball above the ground at time $t$ after it is dropped, ignoring air resistance.\n",
    "The steps involved are the following. First, we will use input statements\n",
    "to get the values of $h$ and $t$ from the user. Second, we will calculate how far\n",
    "the ball falls in the given time, using the standard kinematic formula $s = 1/2gt^2$,\n",
    "where $g = 9.81 ms^{−2}$ is the acceleration due to gravity. Third, we print the\n",
    "height above the ground at time $t$, which is equal to the total height of the\n",
    "tower minus this value, or $h − s$."
   ]
  },
  {
   "cell_type": "code",
   "execution_count": null,
   "metadata": {
    "collapsed": false,
    "scrolled": true
   },
   "outputs": [],
   "source": [
    "h = float(input(\"Enter the height of the tower: \"))\n",
    "t = float(input(\"Enter the time interval: \"))\n",
    "s = 9.81*t**2/2\n",
    "print(\"The height of the ball is\",h-s,\"meters\")"
   ]
  },
  {
   "cell_type": "markdown",
   "metadata": {},
   "source": [
    "For example, calculate the height of a ball dropped from a 100 m\n",
    "high tower after 1 second and after 5 seconds (i.e. run the program twice).\n",
    "Notice that the result is negative in the second case, which means that the\n",
    "ball would have fallen to below ground level if that were possible, though in\n",
    "practice the ball would hit the ground first. Thus a negative value indicates\n",
    "that the ball hits the ground before time t."
   ]
  },
  {
   "cell_type": "code",
   "execution_count": null,
   "metadata": {
    "collapsed": true
   },
   "outputs": [],
   "source": []
  },
  {
   "cell_type": "markdown",
   "metadata": {},
   "source": [
    "### Altitude of a satellite\n",
    "A satellite is to be launched into a circular orbit around the Earth so that it orbits the\n",
    "planet once every T seconds.\n",
    "- a.)  Show that the altitude h above the Earth’s surface that the satellite must have is:\n",
    "$$\n",
    "h = \\Big(\\frac{GMT^2}{4\\pi^2}\\Big)^{1/3}-R\n",
    "$$\n",
    "where G = $6.67 \\times 10^{−11}$ m$^3$ kg$^{−1}$ s$^{−2}$ is Newton's gravitational constant, M = 5.97 $\\times 10^{24}$ kg is the mass of the Earth, and R = 6371 km is its radius.\n",
    "- b.)   Write a program that asks the user to enter the desired value of T and then calculates\n",
    "and prints out the correct altitude in meters.\n",
    "- c.) Use your program to calculate the altitudes of satellites that orbit the Earth once\n",
    "a day (so-called “geosynchronous” orbit), once every 90 minutes, and once every\n",
    "45 minutes. What do you conclude from the last of these calculations?\n",
    "- d.) Technically a geosynchronous satellite is one that orbits the Earth once persidereal\n",
    "day, which is 23.93 hours, not 24 hours. Why is this? And how much difference\n",
    "will it make to the altitude of the satellite?\n"
   ]
  },
  {
   "cell_type": "code",
   "execution_count": null,
   "metadata": {
    "collapsed": true
   },
   "outputs": [],
   "source": []
  },
  {
   "cell_type": "markdown",
   "metadata": {},
   "source": [
    "### Converting to polar coordinates"
   ]
  },
  {
   "cell_type": "code",
   "execution_count": null,
   "metadata": {
    "collapsed": false,
    "scrolled": true
   },
   "outputs": [],
   "source": [
    "from math import sin,cos,pi\n",
    "r = float(input(\"Enter r: \"))\n",
    "d = float(input(\"Enter theta in degrees: \"))\n",
    "theta = d*pi/180\n",
    "x = r*cos(theta)\n",
    "y = r*sin(theta)\n",
    "print(\"x =\",x,\" y =\",y)"
   ]
  },
  {
   "cell_type": "code",
   "execution_count": null,
   "metadata": {
    "collapsed": true
   },
   "outputs": [],
   "source": []
  },
  {
   "cell_type": "markdown",
   "metadata": {},
   "source": [
    "### Performing a sum\n",
    "It happens often in physics calculations that we need to evaluate a sum. If we have the values of the terms in the sum stored in a list or array then we can calculate the sum using the built-in function sum described in Section 2.4.1. In more complicated situations, however, it is often more convenient to use a for loop to calculate a sum. Suppose, for instance, we want to know the value of the sum $s = \\sum_{k=1}^{100}{(1/k)}$. \n",
    "\n",
    "The standard way to program this is as follows:\n",
    "- a. First create a variable to hold the value of the sum, and initially set it equal to zero. As above we’ll call the variable s, and we want it to be a floating-point variable, so we’d do \"s = 0.0\".\n",
    "- b. Now use a for loop to take the variable k through all values from 1 to 100. For each value, calculate 1/k and add it to the variable s.\n",
    "- c. When the for loop ends the variable s will contain the value of the complete sum."
   ]
  },
  {
   "cell_type": "code",
   "execution_count": null,
   "metadata": {
    "collapsed": false
   },
   "outputs": [],
   "source": [
    "#define a variable, initialize it as 0.0\n",
    "___ = 0.0\n",
    "\n",
    "#create a loop with dummy variable, say k\n",
    "for k in range(1,101):\n",
    "    #define the sum\n",
    "    ___ += 1.0/k\n",
    "\n",
    "#print the sum\n",
    "print(___)"
   ]
  },
  {
   "cell_type": "markdown",
   "metadata": {},
   "source": [
    "### Compute the Euclidean distance from x to y in 3D."
   ]
  },
  {
   "cell_type": "code",
   "execution_count": null,
   "metadata": {
    "collapsed": true
   },
   "outputs": [],
   "source": [
    "import math\n",
    "# Input 2 arbitrary points (with 3 components)\n",
    "x = (__, __, __)\n",
    "y = (__, __, __)\n",
    "\n",
    "#enumerate values of x, y using dummy variables a,b\n",
    "#first define an empty variable partial_sum\n",
    "partial_sum = []\n",
    "\n",
    "#loop for each a, b\n",
    "for a, b in zip(x, y):\n",
    "    #compute square of their difference and call it pair\n",
    "    pair = (a - b) ** 2\n",
    "    #add the result of pair to partial_sum ussing .append()\n",
    "    partial_sum.append(pair)\n",
    "\n",
    "#partial_sum contains 3 numbers, print them\n",
    "print(__)\n",
    "\n",
    "#finally sum the partial_sum and compute its sqrt; call it distance\n",
    "distance = math.sqrt(sum(partial_sum))\n",
    "#print result\n",
    "print(\"Euclidean distance from x to y: \",distance)"
   ]
  },
  {
   "cell_type": "markdown",
   "metadata": {},
   "source": [
    "Run cell below to load the solution. Run it again to execute code."
   ]
  },
  {
   "cell_type": "code",
   "execution_count": null,
   "metadata": {
    "collapsed": false
   },
   "outputs": [],
   "source": [
    "% load solutions/distance_3D.py"
   ]
  },
  {
   "cell_type": "markdown",
   "metadata": {},
   "source": [
    "Note: The solution above include 1-line implementation. Python compiles the program inside out beginning with the `for` loop inside the [] and ends with computing the `sqrt`. Note that it didn't require defining and storing the variables `partial_sum` and `pair`. At the expense of readability, less computer memory was used."
   ]
  },
  {
   "cell_type": "markdown",
   "metadata": {},
   "source": [
    "## Main Course\n",
    "\n",
    "### Plotting with matplotlib"
   ]
  },
  {
   "cell_type": "code",
   "execution_count": null,
   "metadata": {
    "collapsed": true
   },
   "outputs": [],
   "source": [
    "#below is used to display plot on notebook, not as separate window\n",
    "%matplotlib inline"
   ]
  },
  {
   "cell_type": "code",
   "execution_count": null,
   "metadata": {
    "collapsed": true
   },
   "outputs": [],
   "source": [
    "#load python's standard plotting library and abbreviate it as plt\n",
    "import matplotlib.pyplot as ___"
   ]
  },
  {
   "cell_type": "code",
   "execution_count": null,
   "metadata": {
    "collapsed": false
   },
   "outputs": [],
   "source": [
    "# Plotting a curve\n",
    "\n",
    "#create 100 numbers between 0 to 10 \n",
    "x = np.linspace(0, 10, 100)\n",
    "#use numpy's trigo func\n",
    "y = np.sin(x)\n",
    "#plot using plt\n",
    "plt.plot(x, y);"
   ]
  },
  {
   "cell_type": "markdown",
   "metadata": {},
   "source": []
  },
  {
   "cell_type": "code",
   "execution_count": null,
   "metadata": {
    "collapsed": true
   },
   "outputs": [],
   "source": [
    "#redefine y = A*np.sin(x-phi) + B where A=2 and B=-3 are constants and phi=np.pi is the phase shift\n",
    "\n",
    "#plot y\n",
    "\n",
    "#add ordinate and abscissa labels and title of the plot\n"
   ]
  },
  {
   "cell_type": "markdown",
   "metadata": {},
   "source": [
    "### Plotting $s=1/k$\n",
    "\n",
    "Edit the code below by making $s$ as a vector. Inside the `for` loop, append the result to $s$. Finally, plot s=1/k using `plt` just like shown in the infinite series example."
   ]
  },
  {
   "cell_type": "code",
   "execution_count": null,
   "metadata": {
    "collapsed": true
   },
   "outputs": [],
   "source": [
    "#define the dependent and independent variables, initialize them as empty arrays\n",
    "s = ___\n",
    "k = ___\n",
    "\n",
    "#create a loop with dummy variable i\n",
    "for i in range(___):\n",
    "    k.append(i)\n",
    "    #append the 1.0/i in s\n",
    "    ___.append(___)\n",
    "\n",
    "#print the sum\n",
    "print(___)\n",
    "\n",
    "#import pyplot\n",
    "import matplotlib.___ as ___\n",
    "\n",
    "#plot s=1/k\n",
    "plt.___(___, ___, '--')"
   ]
  },
  {
   "cell_type": "markdown",
   "metadata": {},
   "source": [
    "### Generate random numbers\n",
    "\n",
    "Study the code below that generates (floating point) numbers in a specific numerical range using `np.uniform` library that passes random numbers sampled from a uniform distribution."
   ]
  },
  {
   "cell_type": "code",
   "execution_count": null,
   "metadata": {
    "collapsed": false
   },
   "outputs": [],
   "source": [
    "#import library called random\n",
    "import numpy as np\n",
    "\n",
    "points=1000\n",
    "u=[]\n",
    "v=[]\n",
    "for i in range(points):\n",
    "    u.append(i)\n",
    "    some_number = np.random.normal(i, 100)\n",
    "    v.append(some_number)\n",
    "    #print('{:04.3f}'.format(some_number))"
   ]
  },
  {
   "cell_type": "markdown",
   "metadata": {},
   "source": [
    "Plot a histogram of v and see whether the plot resembles a normal (bell-shaped) distribution."
   ]
  },
  {
   "cell_type": "code",
   "execution_count": null,
   "metadata": {
    "collapsed": false
   },
   "outputs": [],
   "source": [
    "%matplotlib inline\n",
    "from matplotlib import pyplot as plt\n",
    "\n",
    "plt.hist(v,bins=20)"
   ]
  },
  {
   "cell_type": "markdown",
   "metadata": {},
   "source": [
    "### Scatter plot of random data points"
   ]
  },
  {
   "cell_type": "code",
   "execution_count": null,
   "metadata": {
    "collapsed": false
   },
   "outputs": [],
   "source": [
    "#create random numbers using np.random.normal with size=100\n",
    "import numpy as np\n",
    "\n",
    "x = np.random.normal(size=100)\n",
    "y = np.___(___)\n",
    "\n",
    "# Scatter-plot points\n",
    "plt.scatter(___, ___);"
   ]
  },
  {
   "cell_type": "markdown",
   "metadata": {},
   "source": [
    "### Quantum potential step\n",
    "A well-known quantum mechanics problem involves a particle of mass m that encounters\n",
    "a one-dimensional potential step, like this: ![](figures/quantum_potential.png) \n",
    "The particle with initial kinetic energy $E$ and wavevector $k_1 = \\sqrt{2mE/\\hbar}$ enters from the left and encounters a sudden jump in potential energy of height $V$ at position $x = 0$. By solving the Schrodinger equation, one can show that when $E > V$ the particle may either **(a)** pass the step, in which case it has a lower kinetic energy of $E − V$ on the other side and a correspondingly smaller wavevector of $k_2 = \\sqrt{2m(E-V)/\\hbar}$ or; **(b)** it may be reflected, keeping all of its kinetic energy and an unchanged wavevector but moving in the opposite direction. The probabilities $T$ and $R$ for transmission and reflection are given by: $$ T = \\frac{4k_1k_2}{(k_1 + k_2)} \\quad R = \\Big(\\frac{k1 − k2}{k1 + k2}\\Big)^2$$\n",
    "\n",
    "Suppose we have a particle with mass equal to the electron mass $m = 9.11 \\times 10^{−31}$ kg and energy 10 eV encountering a potential step of height 9 eV. Write a Python program to compute and print out the transmission and reflection probabilities using the formulas above."
   ]
  },
  {
   "cell_type": "code",
   "execution_count": null,
   "metadata": {
    "collapsed": true
   },
   "outputs": [],
   "source": [
    "% load solutions/squarewell.py"
   ]
  },
  {
   "cell_type": "markdown",
   "metadata": {},
   "source": [
    "### Compute the value of [natural number e](https://en.wikipedia.org/wiki/List_of_representations_of_e) using infinite series.\n",
    "$$\n",
    "e^x = \\sum^{\\infty}_{n=0} \\frac{x^n}{n!} = 1+ x + \\frac{x^2}{2 * 1} + \\frac{x^3}{3 * 2} + \\; ... \\\\\n",
    "e \\approx 2.71828, \\quad \\mathrm{for \\;} x = 1\n",
    "$$"
   ]
  },
  {
   "cell_type": "code",
   "execution_count": null,
   "metadata": {
    "collapsed": false,
    "scrolled": false
   },
   "outputs": [],
   "source": [
    "#import math library\n",
    "import math\n",
    "\n",
    "#define the factorial function as `fact` with input n.\n",
    "#check: if n is equal to 1, return 0; else, return n*fact(n-1)\n",
    "def fact(n):\n",
    "    #define 0!=1\n",
    "    if n == 0:\n",
    "        return ___\n",
    "    #otherwise return n! = n*(n-1)*(n-2)*...\n",
    "    ___:\n",
    "        return n*fact(n-1) #recursion\n",
    "\n",
    "#the loop will be infinite unless we specify the precision; e.g. 8 decimal places\n",
    "#define a function `e` to compute e with input eps.\n",
    "#eps specify the precision; e.g. 0.001\n",
    "def e(___):\n",
    "    #initialize x and e; to compute e, set x = 1\n",
    "    x = 1 \n",
    "    #write the infinite series equation of e\n",
    "    e = 1 + x + float(1.0/fact(2))\n",
    "    #use i as a dummy variable; refers to number of terms of e to sum\n",
    "    i = 3 \n",
    "    \n",
    "    #do recursion as long as difference x-e >= eps\n",
    "    while math.fabs(x-e) >= eps:\n",
    "        #initialize x\n",
    "        x = e\n",
    "        e += float(1.0/fact(i))\n",
    "        #increment i\n",
    "        i += 1\n",
    "    #output e\n",
    "    return e \n",
    "\n",
    "#compute the value of e using with eps = 0.00000001\n",
    "print(e(___))\n",
    "\n",
    "#For comparison of result, print the built-in value of e: math.e\n",
    "print(___)"
   ]
  },
  {
   "cell_type": "markdown",
   "metadata": {},
   "source": [
    "Run cell below to load the solution. Run it again to execute code."
   ]
  },
  {
   "cell_type": "code",
   "execution_count": null,
   "metadata": {
    "collapsed": true
   },
   "outputs": [],
   "source": [
    "% load solutions/e.py"
   ]
  },
  {
   "cell_type": "markdown",
   "metadata": {},
   "source": [
    "### HR diagram"
   ]
  },
  {
   "cell_type": "code",
   "execution_count": null,
   "metadata": {
    "collapsed": true
   },
   "outputs": [],
   "source": [
    "#import plt and np\n",
    "import ___ as ___\n",
    "import ___ as ___\n",
    "\n",
    "#load file located in data/stars.txt and call it `data` with float data type\n",
    "data = np.loadtxt('___', dtype= ___ )\n",
    "#assign first column as x\n",
    "x = data[:,0]\n",
    "#assign second column as y\n",
    "y = ___\n",
    "\n",
    "#scatter plot and set data point transparency alpha=0.5\n",
    "plt.___(___,___, alpha=0.5)\n",
    "\n",
    "#add \"Temperature (K)\" for xlabel and \"Magnitude\" as ylabel\n",
    "plt.xlabel(\"___\")\n",
    "plt.___(___)\n",
    "\n",
    "#set plot limit between 0 and 13000 K\n",
    "plt.xlim(___,___)\n",
    "#set plot limit between -5 and 20 mag\n",
    "plt.___(___,___)\n",
    "#optional: add grid\n",
    "plt.grid(True)\n",
    "\n",
    "#show plot\n",
    "plt.___()"
   ]
  },
  {
   "cell_type": "markdown",
   "metadata": {},
   "source": [
    "Run cell below to load the solution. Run it again to execute code."
   ]
  },
  {
   "cell_type": "code",
   "execution_count": null,
   "metadata": {
    "collapsed": false
   },
   "outputs": [],
   "source": [
    "% load solutions/hrdiagram.py"
   ]
  },
  {
   "cell_type": "markdown",
   "metadata": {},
   "source": [
    "Learn more about [HR diagram](https://en.wikipedia.org/wiki/Hertzsprung%E2%80%93Russell_diagram)."
   ]
  },
  {
   "cell_type": "markdown",
   "metadata": {},
   "source": [
    "### Sunspots\n",
    "\n",
    "Plot the observed number of sunspots on the Sun for each month since January 1749 using the data `sunspots.txt`. The file\n",
    "contains two columns of numbers, the first being the month and the second being the sunspot number.\n",
    "\n",
    "- a) Write a program that reads in the data and makes a graph of sunspots as a function of time.\n",
    "- b) Modify your program to display only the first 1000 data points on the graph."
   ]
  },
  {
   "cell_type": "code",
   "execution_count": null,
   "metadata": {
    "collapsed": true
   },
   "outputs": [],
   "source": [
    "#import plt and np\n",
    "from ___ import pyplot as ___\n",
    "import ___ as ___\n",
    "\n",
    "#load file located in data/sunspots.txt and call it `data` as float data type\n",
    "data = np.loadtxt('___', dtype= ___)\n",
    "\n",
    "#assign first column of data as t\n",
    "___ = ___[:,0]\n",
    "\n",
    "#convert t into month that starts from Jan, 1749; use timedelta library\n",
    "import datetime as dt\n",
    "\n",
    "start = dt.date(1749, 1, 1)\n",
    "month = []\n",
    "#this for loop converts the first column into proper dates\n",
    "for i in t:\n",
    "    time = dt.timedelta(i)\n",
    "    month.append(start + dt.timedelta(i*365/12))\n",
    "\n",
    "#assign second column as count\n",
    "___ = data[:,___]\n",
    "\n",
    "#plot up to first 1000 data points as instructed\n",
    "plt.___(___[:1000], ___[:1000], 'b-') #b- means blue line\n",
    "\n",
    "#add \"Sunspot Counts\" for ylabel and \"Time\" as xlabel\n",
    "plt.___(\"___\")\n",
    "plt.___(\"___\")\n",
    "\n",
    "#optional: add grid\n",
    "plt.grid(True)\n",
    "\n",
    "#show plot\n",
    "plt.show()"
   ]
  },
  {
   "cell_type": "markdown",
   "metadata": {},
   "source": [
    "Run cell below to load the solution. Run it again to execute code."
   ]
  },
  {
   "cell_type": "code",
   "execution_count": null,
   "metadata": {
    "collapsed": false
   },
   "outputs": [],
   "source": [
    "% load solutions/solarcycle.py"
   ]
  },
  {
   "cell_type": "markdown",
   "metadata": {},
   "source": [
    "- c) Modify your program further to calculate and plot the running average of the data, defined by:\n",
    "$$\n",
    "Y_k = \\frac{1}{2r}\\sum_{m=-r}^{r}{y_{k+m}},\n",
    "$$\n",
    "where r = 5 in this case (and the $y_k$ are the sunspot numbers). Have the program plot both the original data and the running average on the same graph, again over the range covered by the first 1000 data points."
   ]
  },
  {
   "cell_type": "code",
   "execution_count": null,
   "metadata": {
    "collapsed": true
   },
   "outputs": [],
   "source": []
  },
  {
   "cell_type": "markdown",
   "metadata": {},
   "source": [
    "Learn more about the [solar cycle](https://en.wikipedia.org/wiki/Solar_cycle)."
   ]
  },
  {
   "cell_type": "markdown",
   "metadata": {},
   "source": [
    "### More sines and cosines\n",
    "\n",
    "Plot $$y=2\\sin(x)+3\\cos(x)$$ where $x$ = [-2 $\\pi$, 2 $\\pi$]."
   ]
  },
  {
   "cell_type": "code",
   "execution_count": null,
   "metadata": {
    "collapsed": true
   },
   "outputs": [],
   "source": []
  },
  {
   "cell_type": "markdown",
   "metadata": {},
   "source": [
    "### Emission lines of Hydrogen\n",
    "\n",
    "Calculate the wavelength ($\\lambda$) of emission lines in the spectrum of the hydrogen atom, based on the Rydberg formula:\n",
    "$$\n",
    "\\frac{1}{\\lambda} = R\\Big(\\frac{1}{m^2}- \\frac{1}{n^2} \\Big)\n",
    "$$\n",
    "where $m,n$ are energy levels for atomic transition. See more [here](https://en.wikipedia.org/wiki/Rydberg_formula). \n",
    "\n",
    "- a. Use two nested for loops—a loop within another loop—with the code inside the inner loop doubly indented. The first for loop takes the integer variable m through the values 1, 2, 3. \n",
    "- b. And for each value of m the second, inner loop takes k though the values 1, 2, 3, 4, 5, add those values to m to calculate n and then apply the Rydberg formula. \n",
    "- c. The end result will be that the program prints out a wavelength for each combination of values of m and n, which is what we want."
   ]
  },
  {
   "cell_type": "code",
   "execution_count": null,
   "metadata": {
    "collapsed": false
   },
   "outputs": [],
   "source": [
    "from __future__ import print_function\n",
    "\n",
    "#define Rydberg constant\n",
    "R = 1.097e-2\n",
    "\n",
    "#create for loop, m=1,2,3\n",
    "for m in [1,2,3]:\n",
    "    print(\"Series for m =\", m)\n",
    "    #create another (nested) for loop, k=1,..,5\n",
    "    for k in [1,2,3,4,5]:\n",
    "        #add m and k, as n\n",
    "        n = m + k\n",
    "        #define Rydberg formula\n",
    "        invlambda = R*(1.0/m**2 - 1.0/n**2)\n",
    "        #print result\n",
    "        print(\" \", 1.0/invlambda,\" nm\")"
   ]
  },
  {
   "cell_type": "markdown",
   "metadata": {},
   "source": [
    "Run cell below to load the solution. Run it again to execute code."
   ]
  },
  {
   "cell_type": "code",
   "execution_count": null,
   "metadata": {
    "collapsed": true
   },
   "outputs": [],
   "source": [
    "% load solutions/rydberg.py"
   ]
  },
  {
   "cell_type": "markdown",
   "metadata": {},
   "source": [
    "### Creating images"
   ]
  },
  {
   "cell_type": "code",
   "execution_count": null,
   "metadata": {
    "collapsed": true
   },
   "outputs": [],
   "source": [
    "# Showing images using imshow\n",
    "# - note that origin is at the top-left by default!\n",
    "\n",
    "x = np.linspace(1, 12, 100)\n",
    "y = x[:, np.newaxis]\n",
    "\n",
    "im = y * np.sin(x) * np.cos(y)\n",
    "print(im.shape)\n",
    "\n",
    "plt.imshow(im);"
   ]
  },
  {
   "cell_type": "markdown",
   "metadata": {},
   "source": [
    "### Contour plot"
   ]
  },
  {
   "cell_type": "code",
   "execution_count": null,
   "metadata": {
    "collapsed": true
   },
   "outputs": [],
   "source": [
    "# Contour plots \n",
    "# - note that origin here is at the bottom-left by default!\n",
    "plt.contour(im);"
   ]
  },
  {
   "cell_type": "markdown",
   "metadata": {},
   "source": [
    "### Density plot\n",
    "\n",
    "There are many times in physics when we need to work with two-dimensional\n",
    "grids of data. A condensed matter physicist might measure variations in charge\n",
    "or temperature or atomic deposition on a solid surface; a fluid dynamicist\n",
    "might measure the heights of waves in a ripple tank; a particle physicist might\n",
    "measure the distribution of particles incident on an imaging detector; and so\n",
    "on. Two-dimensional data are harder to visualize on a computer screen than\n",
    "the one-dimensional lists of values that go into an ordinary graph. But one\n",
    "tool that is helpful in many cases is the density plot, a two-dimensional plot\n",
    "where color or brightness is used to indicate data values. Figure 3.5 shows an\n",
    "example."
   ]
  },
  {
   "cell_type": "code",
   "execution_count": null,
   "metadata": {
    "collapsed": false
   },
   "outputs": [],
   "source": [
    "from matplotlib import pyplot as plt\n",
    "import numpy as np\n",
    "data = np.loadtxt(\"data/circular.txt\",float)\n",
    "plt.imshow(data,origin=\"lower\")\n",
    "#gray()\n",
    "show()"
   ]
  },
  {
   "cell_type": "markdown",
   "metadata": {},
   "source": [
    "### Wave interference\n",
    "\n",
    "Suppose we drop a pebble in a pond and waves radiate out from the spot where it fell. We could create a simple representation of the physics with a sine wave, spreading out in a uniform circle, to represent the height of the waves at some later time. If the center of the circle is at $x_1, y_1$ then the distance $r_1$ to the center from a point x, y is\n",
    "$$\n",
    "r_1 = \\sqrt{(x-x_1)^2+(y-y_1)^2}\n",
    "$$\n",
    "and the sine wave for the height is\n",
    "$$\n",
    "h_1(x,y)=h_0\\sin kr_1\n",
    "$$\n",
    "where $h_{\\theta}$ is the amplitude of the waves and $k$ is the wavevector, related to the\n",
    "wavelength $\\lambda$ by $k = 2\\pi/\\lambda$.\n",
    "Now suppose we drop another pebble in the pond, creating another circular\n",
    "set of waves with the same wavelength and amplitude but centered on a\n",
    "different point $x_2, y_2$:\n",
    "$$\n",
    "h_2(x,y) = h_0\\sin kr_2 \\quad r_2 = \\sqrt{(x-x_2)^2+(y-y_2)^2}\n",
    "$$\n",
    "Then, assuming the waves add linearly (which is a reasonable assumption for\n",
    "water waves, provided they are not too big), the total height of the surface at a\n",
    "point $x, y$ is\n",
    "$$\n",
    "h(x,y)=h_0\\sin kr_1 + h_0\\sin kr_2\n",
    "$$\n",
    "Suppose the wavelength of the waves is $\\lambda$ = 5 cm, the amplitude is 1 cm, and\n",
    "the centers of the circles are 20 cm apart. Here is a program to make an image of\n",
    "the height over a 1 m square region of the pond. To make the image we create \n",
    "an array of values representing the height $h$ at a grid of points and then use\n",
    "that array to make a density plot. In this example we use a grid of 500 × 500\n",
    "points to cover the 1 m square, which means the grid points have a separation\n",
    "of 100/500 = 0.2 cm"
   ]
  },
  {
   "cell_type": "markdown",
   "metadata": {},
   "source": [
    "Hint: Height is calculated and stored in the array xi. The variables i and j go through the rows and columns of the array respectively, and from these we calculate the values of the coordinates x and y. Since, as discussed\n",
    "earlier, the rows correspond to the vertical axis and the columns to the horizontal axis, the value of x is calculated from j and the value of y is calculated from i.\n",
    "\n",
    "The picture shows clearly the interference of the two sets of waves. The interference fringes are visible as the gray bands radiating from the center."
   ]
  },
  {
   "cell_type": "code",
   "execution_count": null,
   "metadata": {
    "collapsed": true
   },
   "outputs": [],
   "source": []
  },
  {
   "cell_type": "markdown",
   "metadata": {},
   "source": [
    "Run cell below to load the solution. Run it again to execute code."
   ]
  },
  {
   "cell_type": "code",
   "execution_count": null,
   "metadata": {
    "collapsed": false
   },
   "outputs": [],
   "source": [
    "% load solutions/ripples.py"
   ]
  },
  {
   "cell_type": "markdown",
   "metadata": {},
   "source": [
    "### Simulate toss-coin experiment\n",
    "\n",
    "Flip-a-coin 1000 times and count heads and tails. Plot a histrogram/ bar plot of the result."
   ]
  },
  {
   "cell_type": "code",
   "execution_count": null,
   "metadata": {
    "collapsed": false
   },
   "outputs": [],
   "source": [
    "import random\n",
    "import itertools\n",
    "\n",
    "results = {\n",
    "    'heads': 0,\n",
    "    'tails': 0}\n",
    "\n",
    "sides = list(results.keys())\n",
    "\n",
    "for i in range(10000):\n",
    "    results[random.choice(sides)] += 1\n",
    "\n",
    "print('Heads:', results['heads'])\n",
    "print('Tails:', results['tails'])"
   ]
  },
  {
   "cell_type": "markdown",
   "metadata": {},
   "source": [
    "### Numerical methods: integration\n",
    "Read about [Trapezoidal rule](https://en.wikipedia.org/wiki/Trapezoidal_rule). A particle's velocity is described by the function \n",
    "$$\n",
    "v(t) = t^4 − 2t + 1\n",
    "$$\n",
    "Implement trapezoidal rule to estimate the acceleration (area under the curve of a velocity-time graph) of the particle between t=0 s to t=2 s:\n",
    "$$\n",
    "a(t) = \\int_{0}^{2} (t^4 − 2t + 1) dt\n",
    "$$\n",
    "Compare it to the result of the analytical solution:\n",
    "$$\n",
    "a = [\\frac{t^5}{5} - t^2 + t]\\Big|_0^2= 4.4 \\; \\mathrm{m/s^2}\n",
    "$$"
   ]
  },
  {
   "cell_type": "code",
   "execution_count": null,
   "metadata": {
    "collapsed": true
   },
   "outputs": [],
   "source": []
  },
  {
   "cell_type": "markdown",
   "metadata": {},
   "source": [
    "Run cell below to load the solution. Run it again to execute code."
   ]
  },
  {
   "cell_type": "markdown",
   "metadata": {},
   "source": [
    "% load solutions/trapezoidal.py"
   ]
  },
  {
   "cell_type": "markdown",
   "metadata": {},
   "source": [
    "You will learn that there are several other implementations of integration, such [Simpson's rule](https://en.wikipedia.org/wiki/Simpson%27s_rule), [Romberg integration](https://en.wikipedia.org/wiki/Romberg's_method), and [Gaussian Quadrature](https://en.wikipedia.org/wiki/Gaussian_quadrature) each having its own dis/advantages. Implement any of them to the same function above. Compare it with the previous and analytical results."
   ]
  },
  {
   "cell_type": "code",
   "execution_count": null,
   "metadata": {
    "collapsed": true
   },
   "outputs": [],
   "source": []
  },
  {
   "cell_type": "markdown",
   "metadata": {},
   "source": [
    "Run cell below to load the solution. Run it again to execute code."
   ]
  },
  {
   "cell_type": "code",
   "execution_count": null,
   "metadata": {
    "collapsed": true
   },
   "outputs": [],
   "source": [
    "% load solutions/simpson_rule.py"
   ]
  },
  {
   "cell_type": "code",
   "execution_count": null,
   "metadata": {
    "collapsed": true
   },
   "outputs": [],
   "source": [
    "% load solutions/gaussint.py"
   ]
  },
  {
   "cell_type": "markdown",
   "metadata": {},
   "source": [
    "### Monte Carlo Method: Hit or Miss\n",
    "\n",
    "Read about [Monte Carlo method](https://en.wikipedia.org/wiki/Monte_Carlo_method). It can be used to carry out numerical integration of the function given above."
   ]
  },
  {
   "cell_type": "code",
   "execution_count": null,
   "metadata": {
    "collapsed": false,
    "scrolled": true
   },
   "outputs": [],
   "source": [
    "from math import sin\n",
    "from random import random\n",
    "\n",
    "def f(t):\n",
    "    return t**4 - 2*t+1.0\n",
    "\n",
    "N = 10000\n",
    "count = 0.0\n",
    "for i in range(N):\n",
    "    x = 2.0*random()\n",
    "    y = random()\n",
    "    if y<f(x):\n",
    "        count += 1\n",
    "I = 2.0*count/N\n",
    "print(I)\n"
   ]
  },
  {
   "cell_type": "code",
   "execution_count": null,
   "metadata": {
    "collapsed": true
   },
   "outputs": [],
   "source": [
    "% load solutions/mcint.py"
   ]
  },
  {
   "cell_type": "markdown",
   "metadata": {},
   "source": [
    "Try integrating other complex functions, involving trigonometric, exponential, logarithmic, etc. expressions.\n",
    "\n",
    "Use this method to estimate the value of $\\pi$ by considering a situation in which the circle is inscribed in a square with sides 1 unit as shown.\n",
    "\n",
    "![](figures/monte carlo method.gif)"
   ]
  },
  {
   "cell_type": "markdown",
   "metadata": {},
   "source": [
    "### Numerical methods: differentiation\n",
    "\n",
    "Read about [forward and backward difference method](https://en.wikipedia.org/wiki/Finite_difference_method). Implement it to numerically estimate the derivative of \n",
    "$$\n",
    "\\frac{d}{dx} (\\frac{t^5}{5}−t^2+t)\n",
    "$$\n",
    "from 0 to 2. Plot the function as well as its derivative.\n",
    "\n",
    "You should get close to the analytical value,\n",
    "$$\n",
    "(t^4−2t+1)\\Big|^2_0 = 13\n",
    "$$\n",
    "\n",
    "See also `scipy.optimize`."
   ]
  },
  {
   "cell_type": "code",
   "execution_count": null,
   "metadata": {
    "collapsed": false
   },
   "outputs": [],
   "source": [
    "% load solutions/euler.py"
   ]
  },
  {
   "cell_type": "markdown",
   "metadata": {},
   "source": [
    "### Optimization\n",
    "\n",
    "Suppose that the function above describes the cost of building a rocket, C(x), as a function of material $x$.\n",
    "$$\n",
    "C(x)= \\frac{x^5}{5}−x^2+x \n",
    "$$\n",
    "\n",
    "What should be the value of material $x$ such that $C(x)$ is at extremum (i.e. either minimum or maximum).\n",
    "\n",
    "Hint: Take the derivative $C'(x)$ and solve for $x$ such that $C'(x)=0$. "
   ]
  },
  {
   "cell_type": "code",
   "execution_count": null,
   "metadata": {
    "collapsed": true
   },
   "outputs": [],
   "source": []
  },
  {
   "cell_type": "markdown",
   "metadata": {},
   "source": [
    "### Half life\n",
    "\n",
    "Read about [half life](https://en.wikipedia.org/wiki/Half-life). Study the code below that simulates radioactive decay of Thallium into Lead as a random process over time."
   ]
  },
  {
   "cell_type": "code",
   "execution_count": null,
   "metadata": {
    "collapsed": false
   },
   "outputs": [],
   "source": [
    "from random import random\n",
    "from numpy import arange\n",
    "from matplotlib import pyplot as plt\n",
    "\n",
    "# Constants\n",
    "NTl = 1000            # Number of thallium atoms\n",
    "NPb = 0               # Number of lead atoms\n",
    "tau = 3.053*60        # Half life of thallium in seconds\n",
    "h = 1.0               # Size of time-step in seconds\n",
    "p = 1 - 2**(-h/tau)   # Probability of decay in one step\n",
    "tmax = 1000           # Total time\n",
    "\n",
    "# Lists of plot points\n",
    "tpoints = arange(0.0,tmax,h)\n",
    "Tlpoints = []\n",
    "Pbpoints = []\n",
    "\n",
    "# Main loop\n",
    "for t in tpoints:\n",
    "    Tlpoints.append(NTl)\n",
    "    Pbpoints.append(NPb)\n",
    "\n",
    "    # Calculate the number of atoms that decay\n",
    "    decay = 0\n",
    "    for i in range(NTl):\n",
    "        if random()<p:\n",
    "            decay += 1\n",
    "    NTl -= decay\n",
    "    NPb += decay\n",
    "\n",
    "# Make the graph\n",
    "plt.plot(tpoints,Tlpoints,label='Thallium')\n",
    "plt.plot(tpoints,Pbpoints,label='Lead')\n",
    "plt.xlabel(\"Time\")\n",
    "plt.ylabel(\"Number of atoms\")\n",
    "plt.legend(loc='best')\n",
    "plt.show()\n"
   ]
  },
  {
   "cell_type": "code",
   "execution_count": null,
   "metadata": {
    "collapsed": true
   },
   "outputs": [],
   "source": [
    "% load solutions/decay.py"
   ]
  },
  {
   "cell_type": "markdown",
   "metadata": {},
   "source": [
    "### Pythagorean Theorem\n",
    "\n",
    "Create Pythagorean theorem calculator."
   ]
  },
  {
   "cell_type": "code",
   "execution_count": null,
   "metadata": {
    "collapsed": false
   },
   "outputs": [],
   "source": [
    "from math import sqrt\n",
    "\n",
    "print('Pythagorean theorem calculator! Calculate your triangle sides.')\n",
    "print('Assume the sides are a, b, c and c is the hypotenuse (the side opposite the right angle')\n",
    "formula = input('Which side (a, b, c) do you wish to calculate? side> ')\n",
    "\n",
    "if formula == 'c':\n",
    "    side_a = int(input('Input the length of side a: '))\n",
    "    side_b = int(input('Input the length of side b: '))\n",
    "\n",
    "    side_c = sqrt(side_a * side_a + side_b * side_b)\n",
    "\n",
    "    print('The length of side c is: ' )\n",
    "    print(side_c)\n",
    "\n",
    "elif formula == 'a':\n",
    "    side_b = int(input('Input the length of side b: '))\n",
    "    side_c = int(input('Input the length of side c: '))\n",
    "    \n",
    "    side_a = sqrt((side_c * side_c) - (side_b * side_b))\n",
    "    \n",
    "    print('The length of side a is' )\n",
    "    print(side_a)\n",
    "\n",
    "elif formula == 'b':\n",
    "    side_a = int(input('Input the length of side a: '))\n",
    "    side_b = int(input('Input the length of side c: '))\n",
    "        \n",
    "    side_c = sqrt(side_c * side_c - side_a * side_a)\n",
    "    \n",
    "    print('The length of side b is')\n",
    "    print(side_c)\n",
    "\n",
    "else:\n",
    "    print('Please select a side between a, b, c')"
   ]
  },
  {
   "cell_type": "markdown",
   "metadata": {},
   "source": [
    "Run the code below to display the solution."
   ]
  },
  {
   "cell_type": "code",
   "execution_count": null,
   "metadata": {
    "collapsed": true
   },
   "outputs": [],
   "source": [
    "% load solutions/pytheorem.py"
   ]
  },
  {
   "cell_type": "markdown",
   "metadata": {},
   "source": [
    "## Dessert\n",
    "### Statistics: Standard deviation\n",
    "\n",
    "Calculate the [standard deviation](https://en.wikipedia.org/wiki/Standard_deviation) of the following data:\n",
    "1, 5, 2, 4, 3, 3, 2, 4, 5, 1, 4\n",
    "\n",
    "As a rule of thumb, a low standard deviation indicates that the data points tend to be close to the mean (also called the expected value) of the set, while a high standard deviation indicates that the data points are spread out over a wider range of values. Study the code below that computes the standard deviation given data from the user. "
   ]
  },
  {
   "cell_type": "code",
   "execution_count": null,
   "metadata": {
    "collapsed": false,
    "scrolled": true
   },
   "outputs": [],
   "source": [
    "import math\n",
    "import sys\n",
    "\n",
    "def sd_calc(data):\n",
    "    n = len(data)\n",
    "\n",
    "    if n <= 1:\n",
    "        return 0.0\n",
    "\n",
    "    mean, sd = avg_calc(data), 0.0\n",
    "\n",
    "    # calculate stan. dev.\n",
    "    for el in data:\n",
    "        sd += (float(el) - mean)**2\n",
    "    sd = math.sqrt(sd / float(n-1))\n",
    "\n",
    "    return sd\n",
    "\n",
    "def avg_calc(ls):\n",
    "    n, mean = len(ls), 0.0\n",
    "\n",
    "    if n <= 1:\n",
    "        return ls[0]\n",
    "\n",
    "    # calculate average\n",
    "    for el in ls:\n",
    "        mean = mean + float(el)\n",
    "    mean = mean / float(n)\n",
    "\n",
    "    return mean\n",
    "\n",
    "#copy numbers above and call them `data` (dtype=list)\n",
    "data = [1, 5, 2, 4, 3, 3, 2, 4, 5, 1, 4]\n",
    "\n",
    "print(\"Sample Data: \",data)\n",
    "\n",
    "print(\"Standard Deviation : \",sd_calc(data))"
   ]
  },
  {
   "cell_type": "markdown",
   "metadata": {},
   "source": [
    "Compare the result above from the result below using `np.std`"
   ]
  },
  {
   "cell_type": "code",
   "execution_count": null,
   "metadata": {
    "collapsed": false
   },
   "outputs": [],
   "source": [
    "#use np.std\n",
    "import numpy as np\n",
    "\n",
    "np.std([1, 5, 2, 4, 3, 3, 2, 4, 5, 1, 4])"
   ]
  },
  {
   "cell_type": "markdown",
   "metadata": {},
   "source": [
    "### Linear regression\n",
    "\n",
    "Study the code below that implements linear regression of 2 variables. From the best fit line of the data, values can be extrapoled/interpoled."
   ]
  },
  {
   "cell_type": "code",
   "execution_count": null,
   "metadata": {
    "collapsed": true
   },
   "outputs": [],
   "source": [
    "# %load solutions/regfit_fancy.py\n",
    "# Define the data\n",
    "data = set()\n",
    "\n",
    "count = int(input(\"Enter the number of data points: \"))\n",
    "for i in range(count):\n",
    "    x=float(input(\"X\"+str(i+1)+\": \"))\n",
    "    y=float(input(\"Y\"+str(i+1)+\": \"))\n",
    "    data.add((x,y))\n",
    "\n",
    "# Find the average x and y\n",
    "avgx = 0.0\n",
    "avgy = 0.0\n",
    "for i in data:\n",
    "    avgx += i[0]/len(data)\n",
    "    avgy += i[1]/len(data)\n",
    "\n",
    "# Find the sums\n",
    "totalxx = 0\n",
    "totalxy = 0\n",
    "\n",
    "for i in data:\n",
    "    totalxx += (i[0]-avgx)**2\n",
    "    totalxy += (i[0]-avgx)*(i[1]-avgy)\n",
    "\n",
    "# Slope/intercept form\n",
    "m = totalxy/totalxx\n",
    "b = avgy-m*avgx\n",
    "\n",
    "print(\"Best fit line:\")\n",
    "print(\"y = \"+str(m)+\"x + \"+str(b))\n",
    "\n",
    "# Prediction by extrapolation\n",
    "x = float(input(\"Enter a value to calculate: \"))\n",
    "print(\"y = \"+str(m*x+b))"
   ]
  },
  {
   "cell_type": "markdown",
   "metadata": {},
   "source": [
    "Edit the code above by defining it as a function, called `fit(x,y)`."
   ]
  },
  {
   "cell_type": "code",
   "execution_count": null,
   "metadata": {
    "collapsed": true
   },
   "outputs": [],
   "source": []
  },
  {
   "cell_type": "code",
   "execution_count": null,
   "metadata": {
    "collapsed": false
   },
   "outputs": [],
   "source": [
    "% load solutions/linear_fit.py"
   ]
  },
  {
   "cell_type": "code",
   "execution_count": null,
   "metadata": {
    "collapsed": false
   },
   "outputs": [],
   "source": [
    "#check if correct\n",
    "fit([0,1,2,3],[0,1,2,3])"
   ]
  },
  {
   "cell_type": "markdown",
   "metadata": {},
   "source": [
    "### Hubble's law and the age of the universe"
   ]
  },
  {
   "cell_type": "markdown",
   "metadata": {},
   "source": [
    "Edit the code above to perform linear regression of [supernova data](http://adamdempsey90.github.io/python/dark_energy/sn_data.txt) below. The file in the data directory has 3 columns, which are measurements of [redshift](https://en.wikipedia.org/wiki/Redshift) (z) and its distances (d) in millions of [parsec](https://en.wikipedia.org/wiki/Parsec) (Mpc) of [supernovas](https://en.wikipedia.org/wiki/Supernova) with error. \n",
    "\n",
    "Plot the distance as a function of redshift and fit the data, first using a linear function."
   ]
  },
  {
   "cell_type": "code",
   "execution_count": null,
   "metadata": {
    "collapsed": false
   },
   "outputs": [],
   "source": [
    "#import plt and np\n",
    "from matplotlib import pyplot as plt\n",
    "import numpy as np\n",
    "\n",
    "#skip text/headers in the top row\n",
    "data = np.loadtxt('___', dtype=float, delimiter='\\t', skiprows=1)\n",
    "\n",
    "#print only the first 5 rows\n",
    "print(data[:5])"
   ]
  },
  {
   "cell_type": "code",
   "execution_count": null,
   "metadata": {
    "collapsed": true
   },
   "outputs": [],
   "source": [
    "#first column: redshift as z\n",
    "___ =data[:,0]\n",
    "#second column: distance as d\n",
    "___ = ___\n",
    "#third column: error in d_err\n",
    "___ = ___"
   ]
  },
  {
   "cell_type": "code",
   "execution_count": null,
   "metadata": {
    "collapsed": false
   },
   "outputs": [],
   "source": [
    "#plot with error bars usng plt.errorbar\n",
    "plt.errorbar(x=___, y=___, yerr=err, marker='o', linestyle='none')\n",
    "\n",
    "#add labels, take note of the units\n",
    "plt.ylabel('Distance (Mpc)')\n",
    "plt.xlabel('Redshift')\n",
    "plt.title('Supernova measurements')"
   ]
  },
  {
   "cell_type": "code",
   "execution_count": null,
   "metadata": {
    "collapsed": true
   },
   "outputs": [],
   "source": [
    "% load solutions/hubble.py"
   ]
  },
  {
   "cell_type": "markdown",
   "metadata": {},
   "source": [
    "What can you say about the error in distance as redshift goes higher? \n",
    "\n",
    "Using the `sd_calc` above (or `np.std`), compute the standard deviation of the $z$ and $d$ measurements."
   ]
  },
  {
   "cell_type": "code",
   "execution_count": null,
   "metadata": {
    "collapsed": false
   },
   "outputs": [],
   "source": [
    "print(sd_calc(___), sd_calc(___))"
   ]
  },
  {
   "cell_type": "markdown",
   "metadata": {},
   "source": [
    "Let's step back a little bit and plot only the data with redshift, z < 0.1. "
   ]
  },
  {
   "cell_type": "code",
   "execution_count": null,
   "metadata": {
    "collapsed": false
   },
   "outputs": [],
   "source": [
    "#n is nth row of data; try any value between n=0 and 100 to get z<0.1 in the plot\n",
    "n=__\n",
    "\n",
    "#plot upto nth data point only\n",
    "plt.errorbar(x=z[:n], y=d[:n], yerr=err[:n], marker='o', linestyle='none')\n",
    "#add labels\n",
    "plt.ylabel('Distance (Mpc)')\n",
    "plt.xlabel('Redshift')"
   ]
  },
  {
   "cell_type": "code",
   "execution_count": null,
   "metadata": {
    "collapsed": true
   },
   "outputs": [],
   "source": [
    "% load solutions/hubble_linear.py"
   ]
  },
  {
   "cell_type": "code",
   "execution_count": null,
   "metadata": {
    "collapsed": false,
    "scrolled": false
   },
   "outputs": [],
   "source": [
    "#import linear_fit.py that we've just written above\n",
    "import linear_fit as fit\n",
    "\n",
    "#fit a linear function to the first 60 data points (z<0.1)\n",
    "n=60\n",
    "\n",
    "#save result of fitting as m1, b1\n",
    "m1,b1 =fit(z[:n],d[:n])"
   ]
  },
  {
   "cell_type": "markdown",
   "metadata": {},
   "source": [
    "Plot the best fit line superposed with the datapoints."
   ]
  },
  {
   "cell_type": "code",
   "execution_count": null,
   "metadata": {
    "collapsed": false
   },
   "outputs": [],
   "source": [
    "#plot with error\n",
    "n=60\n",
    "plt.errorbar(x=z[:n], y=d[:n], yerr=err[:n], marker='o', linestyle='none',label='measurements')\n",
    "plt.ylabel('Distance (Mpc)')\n",
    "plt.xlabel('Redshift')\n",
    "\n",
    "#superpose best fit line\n",
    "best_fit_line=(z[:n]*m1+b1)\n",
    "plt.plot(z[:n], best_fit_line, label='best fit line')\n",
    "plt.legend(loc='best')"
   ]
  },
  {
   "cell_type": "markdown",
   "metadata": {},
   "source": [
    "To check if the above fitting works fine, use `np.polyfit()` to fit a line (and later a curve) to the data."
   ]
  },
  {
   "cell_type": "code",
   "execution_count": null,
   "metadata": {
    "collapsed": false
   },
   "outputs": [],
   "source": [
    "import numpy as np\n",
    "\n",
    "n=60\n",
    "m1, b1 = np.polyfit(z[:n], d[:n], deg=1) #degree=1 is linear; 2 is quadratic\n",
    "print(m1, b1)"
   ]
  },
  {
   "cell_type": "markdown",
   "metadata": {},
   "source": [
    "Interpolate the distance (from Earth) of a newly discovered galaxy called `Cheesy Way` given only redshift $z=0.05$."
   ]
  },
  {
   "cell_type": "code",
   "execution_count": null,
   "metadata": {
    "collapsed": true
   },
   "outputs": [],
   "source": []
  },
  {
   "cell_type": "markdown",
   "metadata": {},
   "source": [
    "Edwin Hubble was the first to attempt to establish a relationship between distance of astronomical objects (he observed galaxies rather than supernova at that time) with their measured redshift, such that\n",
    "$$\n",
    "d = c \\Big(\\frac{z}{H} \\Big)\n",
    "$$\n",
    "where $H$ is the [Hubble's constant](https://en.wikipedia.org/wiki/Hubble's_law) with units [km/s/Mpc](http://cdsarc.u-strasbg.fr/cgi-bin/Unit?km/s/Mpc), and $c\\approx$300,000 m/s is the speed of light. \n",
    "\n",
    "From the linear regression above, it implies that the slope, $m=c/H$ (supposing b=0). \n",
    "\n",
    "Now, calculate $H$ from the slope obtained from the fitting. "
   ]
  },
  {
   "cell_type": "code",
   "execution_count": null,
   "metadata": {
    "collapsed": false
   },
   "outputs": [],
   "source": [
    "#m1 is 1/H\n",
    "H=3e5/m1\n",
    "print(H)"
   ]
  },
  {
   "cell_type": "markdown",
   "metadata": {},
   "source": [
    "The current value of the Hubble constant ($H_0$) is roughly between 60 and 70 (the difference depends on the type of data collected). The Hubble constant tells us two important things:\n",
    "- the inverse of $H$ gives us the age of the Universe;\n",
    "- it connects redshift with distance through the fitting function above (Hubble's Law). \n",
    "\n",
    "That is, if you measure a redshift, then using Hubble’s Law, you can convert this into a distance. "
   ]
  },
  {
   "cell_type": "markdown",
   "metadata": {},
   "source": [
    "Calculate the [age of the universe](https://en.wikipedia.org/wiki/Age_of_the_universe) from the derived value of Hubble's constant."
   ]
  },
  {
   "cell_type": "code",
   "execution_count": null,
   "metadata": {
    "collapsed": false
   },
   "outputs": [],
   "source": [
    "age_universe = 1.0/H\n",
    "print('Age of universe = %f' %age_universe)"
   ]
  },
  {
   "cell_type": "markdown",
   "metadata": {},
   "source": [
    "Hmmm... it does not look right. \n",
    "\n",
    "Note that the units of $H$ is km/s/Mpc. It is physically interpreted as the speed of an object (km/s) at a given distance (Mpc). Since the km and Mpc are both units of distance, we can cancel both leaving a unit of s$^{-1}$:\n",
    "$$\n",
    "\\Big(\\mathrm{\\frac{km/s}{Mpc}}\\Big)\\Big(\\frac{1 \\mathrm{Mpc}}{3.086\\times10^{13} \\mathrm{km}} \\Big)=\\mathrm{3.24077929 \\times 10^{-20} \\; s^{-1}}\n",
    "$$"
   ]
  },
  {
   "cell_type": "code",
   "execution_count": null,
   "metadata": {
    "collapsed": false
   },
   "outputs": [],
   "source": [
    "#multiply the conversion factor to the original value\n",
    "H *= ____\n",
    "\n",
    "#compute age_universe\n",
    "age_universe = ___\n",
    "print('Age of universe = %f' %age_universe)"
   ]
  },
  {
   "cell_type": "code",
   "execution_count": null,
   "metadata": {
    "collapsed": true
   },
   "outputs": [],
   "source": [
    "% load solutions/age.py"
   ]
  },
  {
   "cell_type": "markdown",
   "metadata": {},
   "source": [
    "Note that this is of [seconds]. Convert it to [year]."
   ]
  },
  {
   "cell_type": "code",
   "execution_count": null,
   "metadata": {
    "collapsed": false
   },
   "outputs": [],
   "source": [
    "age_universe_years = ___\n",
    "print('Age of universe = %f' %age_universe_years)"
   ]
  },
  {
   "cell_type": "code",
   "execution_count": null,
   "metadata": {
    "collapsed": true
   },
   "outputs": [],
   "source": [
    "% load solutions/age_year.py"
   ]
  },
  {
   "cell_type": "markdown",
   "metadata": {},
   "source": [
    "Our estimate is about 16 billion years. Note that[ age of the Sun](http://curious.astro.cornell.edu/about-us/51-our-solar-system/the-sun/birth-death-and-evolution-of-the-sun/167-how-do-you-calculate-the-lifetime-of-the-sun-advanced) is 5 billion years. The age of \"our universe\" is also older than the [oldest known galaxy](https://en.wikipedia.org/wiki/UDFy-38135539) which is about 13.1 billion years. Our estimate passes order of magnitude test."
   ]
  },
  {
   "cell_type": "markdown",
   "metadata": {},
   "source": [
    "However, as we've seen, this linear relation holds true only for $z<0.1$. (You can learn about [distance ladder](https://en.wikipedia.org/wiki/Cosmic_distance_ladder) discussed in cosmology used to better estimate distance of furthest objects in the universe)."
   ]
  },
  {
   "cell_type": "markdown",
   "metadata": {},
   "source": [
    "### The Expanding Universe\n",
    "\n",
    "In the previous section we found that a linear relation between redshift and distance was not good enough to fit the full domain of the supernova data. We can go one step further and add a quadratic term to the fitting function. \n",
    "\n",
    "Use `np.poly` again but now set `deg`=2 to implement quadratic fitting."
   ]
  },
  {
   "cell_type": "code",
   "execution_count": null,
   "metadata": {
    "collapsed": false
   },
   "outputs": [],
   "source": [
    "import numpy as np\n",
    "\n",
    "#fit all data with quadratic function and save output as c2, c1, c0\n",
    "___ = np.___(z, d, deg=___) #degree=1 is linear; 2 is quadratic\n",
    "print(___)"
   ]
  },
  {
   "cell_type": "code",
   "execution_count": null,
   "metadata": {
    "collapsed": true
   },
   "outputs": [],
   "source": [
    "%load solutions/quad_fit.py"
   ]
  },
  {
   "cell_type": "code",
   "execution_count": null,
   "metadata": {
    "collapsed": false
   },
   "outputs": [],
   "source": [
    "#plot all data points with error\n",
    "plt.errorbar(x=z, y=d, yerr=err, marker='o', linestyle='none',label='measurements')\n",
    "plt.ylabel('Distance (Mpc)')\n",
    "plt.xlabel('Redshift')\n",
    "\n",
    "#superpose best fit line earlier; copy code from above\n",
    "___\n",
    "\n",
    "#superpose best fit curve \n",
    "best_fit_curve= ___\n",
    "plt.plot(___, ___, label='best fit: deg=2', color='g', lw=3)\n",
    "\n",
    "#add legend\n",
    "plt.legend(loc='best')"
   ]
  },
  {
   "cell_type": "code",
   "execution_count": null,
   "metadata": {
    "collapsed": true
   },
   "outputs": [],
   "source": [
    "%load solutions/hubble_quad.py"
   ]
  },
  {
   "cell_type": "markdown",
   "metadata": {},
   "source": [
    "Similar to the parametrization the slope of best fit line, $m$, with $H$ done earlier, we'll parameterize the coefficient of best fit quadratic curve, $c_2$, with a new parameter $q$ that is historically called the [deceleration parameter](https://en.wikipedia.org/wiki/Deceleration_parameter) $q$. Our fitting function is now,\n",
    "$$\n",
    "d = \\frac{c}{H} ( z + \\frac{1}{2}(1 - q)z^2 )\n",
    "$$\n",
    "Note that we now have two parameters, $H$ and $q$. From the equation above, it implies that the parameter $c_1=\\frac{c}{H}$ and $c_2 = c_1(1-q)$, supposing $c_0=0$. \n",
    "\n",
    "Now, calculate $q$ using coefficient of fitting functions."
   ]
  },
  {
   "cell_type": "markdown",
   "metadata": {},
   "source": [
    "If $q$ is non-zero and negative this suggests that the further away a galaxy is from us, the faster it is receding from us. If best fit $q$ is negative, then congratulations you just discovered [Dark Energy](https://en.wikipedia.org/wiki/Dark_energy) and the [accelerating Universe](https://en.wikipedia.org/wiki/Accelerating_expansion_of_the_universe)! \n",
    "\n",
    "Notice that we still haven’t got a good fit to the data at redshift greater than one. In reality the fitting function is much more complicated and can’t be written as a simple polynomial. But for small redshifts it can be approximated by one, as we’ve just seen."
   ]
  },
  {
   "cell_type": "code",
   "execution_count": null,
   "metadata": {
    "collapsed": false
   },
   "outputs": [],
   "source": [
    "q=1-(c2/c1)\n",
    "print(q)"
   ]
  },
  {
   "cell_type": "markdown",
   "metadata": {},
   "source": [
    "You should get $q\\sim0.8$. From our analysis, supposing you've done it correctly, implies the universe is expanding."
   ]
  },
  {
   "cell_type": "markdown",
   "metadata": {},
   "source": [
    "### Blackbody radiation\n",
    "\n",
    "Plot the Planck function for blackbody radiation of a star and a planet\n",
    "\n",
    "The radiation has a specific spectrum and intensity that depends only on the temperature of the body. The distribution of intensity versus wavelength is distributed following the [Planck function](https://en.wikipedia.org/wiki/Planck's_law):\n",
    "$$\n",
    "I(\\nu,T) = \\frac{2h\\nu^3}{c^2}\\frac{1}{e^{h\\nu/kT}-1}\n",
    "$$"
   ]
  },
  {
   "cell_type": "code",
   "execution_count": null,
   "metadata": {
    "collapsed": false
   },
   "outputs": [],
   "source": [
    "from matplotlib import pyplot as plt\n",
    "%matplotlib inline\n",
    "import numpy as np\n",
    "\n",
    "#define values of h, c, and k\n",
    "h = ___\n",
    "c = ___\n",
    "k = ___\n",
    "\n",
    "#define function named plack that returns planck function\n",
    "def planck(lambda_, T):\n",
    "    a = 2.0*h*c**2\n",
    "    b = h*c/(lambda_*k*T)\n",
    "    return a/ ((lambda_**5) * (np.exp(b) - 1.0))\n",
    "\n",
    "# generate x-axis in increments from 1nm to 3 micrometer in 1 nm increments\n",
    "# starting at 1 nm to avoid wav = 0, which would result in division by zero.\n",
    "wavelengths = np.arange(1e-9, 3e-6, 1e-9) \n",
    "\n",
    "# enter 3 samples, intensity at T=4000K, 5000K, 6000K, 7000K\n",
    "temperature = [___,___,___]\n",
    "\n",
    "#make an empty array called I\n",
    "I = []\n",
    "\n",
    "#compute the intensity using planck() for each temperature\n",
    "for i in temperature:\n",
    "    ii = ___(wavelengths, i)\n",
    "    #append ii to I\n",
    "    ___.append(___)\n",
    "\n",
    "#use 4 colors\n",
    "colors = ['r-', 'g-', 'b-', 'k-']\n",
    "\n",
    "counter = 0\n",
    "#loop over pair of I and colors\n",
    "for j,c in zip(I,colors):\n",
    "    plt.plot(wavelengths*1e9, j, c, label='T={}K'.format(temperature[counter]))\n",
    "    counter+=1\n",
    "\n",
    "#add labels\n",
    "plt.ylabel('Intensity (J m$^{-2}$ sr$^{-1}$ Hz$^{-1}$)')\n",
    "plt.xlabel('$\\lambda$ (nm)')\n",
    "plt.legend()\n",
    "plt.show()"
   ]
  },
  {
   "cell_type": "code",
   "execution_count": null,
   "metadata": {
    "collapsed": true
   },
   "outputs": [],
   "source": [
    "% load solutions/blackbody.py"
   ]
  },
  {
   "cell_type": "markdown",
   "metadata": {},
   "source": [
    "### Wien's displacement law\n",
    "\n",
    "Find the peak of the blackbody curves using [Wien's displacement law](https://en.wikipedia.org/wiki/Wien%27s_displacement_law)."
   ]
  },
  {
   "cell_type": "code",
   "execution_count": null,
   "metadata": {
    "collapsed": false
   },
   "outputs": [],
   "source": []
  },
  {
   "cell_type": "markdown",
   "metadata": {},
   "source": [
    "To see an interactive demo, check the code below."
   ]
  },
  {
   "cell_type": "code",
   "execution_count": null,
   "metadata": {
    "collapsed": true
   },
   "outputs": [],
   "source": [
    "% load solutions/blackbody_interactive.py"
   ]
  },
  {
   "cell_type": "markdown",
   "metadata": {},
   "source": [
    "### Linear algebra: solving system of equations\n",
    "\n",
    "Solve systems of linear equations using linear algebra techniques. \n",
    "$$\n",
    "2x_1 + 4x_2 + 6x_3 = 4\\\\\n",
    "x_1 − 3x_2 − 9x_3 = −11\\\\\n",
    "8x_1 + 5x_2 − 7x_3 = 1\n",
    "$$\n",
    "\n",
    "HINT:\n",
    "The first task is to recast this set of equations as a matrix equation of the form $$A x = b$$\n",
    "where\n",
    "$$\n",
    "A =\n",
    "\\left(\\begin{array}{cc}\n",
    "2 & 4 & 6\\\\\n",
    "1 & − 3 & − 9\\\\\n",
    "8 & 5 & − 7\n",
    "\\end{array}\\right), \\;\n",
    "x =\n",
    "\\left(\\begin{array}{cc}\n",
    "x_1 \\\\\n",
    "x_2 \\\\\n",
    "x_3\n",
    "\\end{array}\\right), \\; \\mathrm{and} \\;\n",
    "b =\n",
    "\\left(\\begin{array}{cc}\n",
    "4 \\\\ \n",
    "-11 \\\\ \n",
    "1\n",
    "\\end{array}\\right).\n",
    "$$\n",
    "\n",
    "It follows that the solution is:\n",
    "$$\n",
    "x = A^{-1} b\n",
    "$$\n",
    "where $A^{-1}$ is the matrix inverse."
   ]
  },
  {
   "cell_type": "code",
   "execution_count": null,
   "metadata": {
    "collapsed": false
   },
   "outputs": [],
   "source": [
    "#use library called scipy; make sure it is installed properly\n",
    "import scipy.linalg\n",
    "\n",
    "#construct the array A and vector b as NumPy arrays:\n",
    "A = np.array([[2, 4, 6], [1, -3, -9], [8, 5, -7]])\n",
    "b = np.array([4, -11, 2])\n",
    "\n",
    "#use the SciPy function scipy.linalg.solve to find x1, x2, and x3\n",
    "sp.linalg.solve(A,b)\n",
    "\n",
    "#you can get the same answer by noting that x = inv_A b\n",
    "Ainv = sp.linalg.inv(A)\n",
    "\n",
    "#dot product of Ainv and b should get same answer that obtained using scipy.linalg.solve\n",
    "dot(Ainv, b)"
   ]
  },
  {
   "cell_type": "markdown",
   "metadata": {},
   "source": [
    "### Discrete Fourier Transform\n",
    "\n",
    "Read about the [Fourier Transform](https://en.wikipedia.org/wiki/Fourier_transform). We will use it to find the frequency of sunspot cycle studied previously."
   ]
  },
  {
   "cell_type": "code",
   "execution_count": null,
   "metadata": {
    "collapsed": false
   },
   "outputs": [],
   "source": [
    "# %load solutions/dft.py\n",
    "import numpy as np\n",
    "from matplotlib import pyplot as plt\n",
    "from cmath import exp,pi\n",
    "\n",
    "def dft(y):\n",
    "    N = len(y)\n",
    "    c = np.zeros(N//2+1,complex)\n",
    "    for k in range(N//2+1):\n",
    "        for n in range(N):\n",
    "            c[k] += y[n]*np.exp(-2j*np.pi*k*n/N)\n",
    "    return c\n",
    "\n",
    "data = np.loadtxt(\"data/sunspots.txt\",float)\n",
    "counts = data[:,1]\n",
    "\n",
    "#compute fourier transform\n",
    "c = dft(counts)\n",
    "\n",
    "plt.plot(abs(c))\n",
    "plt.xlim(0,100)\n",
    "plt.xlabel('Amplitude')\n",
    "plt.ylabel('Frequency (per month)')\n",
    "\n",
    "plt.show()"
   ]
  },
  {
   "cell_type": "markdown",
   "metadata": {},
   "source": [
    "The peak is somewhere between 20 to 30. Actually, the peak is around 24. We call this [solar cycle 24](https://en.wikipedia.org/wiki/Solar_cycle_24). On a different note, see this timely [video by NASA](http://www.space.com/35720-seven-years-of-sunspots-nasa-video.html?utm_source=notification) about 7 year solar activity. \n",
    "\n",
    "Using new `data/sunspots.txt`, plot its waveform and its discrete fourier transform. "
   ]
  },
  {
   "cell_type": "markdown",
   "metadata": {},
   "source": [
    "### Fast Fourier Transform (FFT)\n",
    "\n",
    "Study the implementation of the fast fourier transform to compute the frequenecy of periodic signals."
   ]
  },
  {
   "cell_type": "code",
   "execution_count": null,
   "metadata": {
    "collapsed": false
   },
   "outputs": [],
   "source": [
    "import numpy as np\n",
    "from scipy import fftpack\n",
    "import matplotlib.pyplot as plt\n",
    "\n",
    "width = 2.0\n",
    "freq = 0.5\n",
    "t = np.linspace(-10, 10, 101) # linearly-spaced time array\n",
    "\n",
    "g = np.sin(2.0*np.pi*freq*t)\n",
    "dt = t[1]-t[0] # increment between times in time array\n",
    "G = fftpack.fft(g) # FFT of g\n",
    "f = fftpack.fftfreq(g.size, d=dt) # frequenies f[i] of g[i]\n",
    "f = fftpack.fftshift(f) # shift frequencies from min to max\n",
    "G = fftpack.fftshift(G) # shift G order to coorespond to f\n",
    "\n",
    "\n",
    "fig = plt.figure(1, figsize=(8,6), frameon=False)\n",
    "ax1 = fig.add_subplot(211)\n",
    "ax1.plot(t, g)\n",
    "ax1.set_xlabel('t')\n",
    "ax1.set_ylabel('g(t)')\n",
    "ax2 = fig.add_subplot(212)\n",
    "ax2.plot(f, np.real(G), color='dodgerblue', label='real part')\n",
    "ax2.plot(f, np.imag(G), color='coral', label='imaginary part')\n",
    "ax2.legend()\n",
    "ax2.set_xlabel('f')\n",
    "ax2.set_ylabel('G(f)')\n",
    "\n",
    "plt.show()"
   ]
  },
  {
   "cell_type": "markdown",
   "metadata": {},
   "source": [
    "Plot the function `g = np.exp(-np.abs(t)/width) * np.sin(2.0*np.pi*freq*t)` and compute its fourier transform.\n",
    "\n",
    "Rewrite the code inside a function `fft()` such that we can use it to compute the fourier transform faster than `dft()` above. "
   ]
  },
  {
   "cell_type": "code",
   "execution_count": null,
   "metadata": {
    "collapsed": false
   },
   "outputs": [],
   "source": [
    "% load solutions/fft.py"
   ]
  },
  {
   "cell_type": "markdown",
   "metadata": {},
   "source": [
    "### Laplace equation\n",
    "\n",
    "Read about [Laplace equation](https://en.wikipedia.org/wiki/Laplace%27s_equation). Study the code below that implements numerically the solution to Laplace's equation to solve the electrical potential at the top side of a square conductor. "
   ]
  },
  {
   "cell_type": "code",
   "execution_count": null,
   "metadata": {
    "collapsed": false
   },
   "outputs": [],
   "source": [
    "# %load solutions/laplace.py\n",
    "import numpy as np\n",
    "from matplotlib import pyplot as plt\n",
    "\n",
    "# Constants\n",
    "M = 100         # Grid squares on a side\n",
    "V = 1.0         # Voltage at top square conductor\n",
    "target = 1e-2   # Target accuracy\n",
    "\n",
    "# Create arrays to hold potential values\n",
    "phi = np.zeros([M+1,M+1],float)\n",
    "phi[0,:] = V\n",
    "phiprime = np.empty([M+1,M+1],float)\n",
    "\n",
    "# Main loop\n",
    "delta = 1.0\n",
    "while delta>target:\n",
    "\n",
    "    # Calculate new values of the potential\n",
    "    for i in range(M+1):\n",
    "        for j in range(M+1):\n",
    "            if i==0 or i==M or j==0 or j==M:\n",
    "                phiprime[i,j] = phi[i,j]\n",
    "            else:\n",
    "                phiprime[i,j] = (phi[i+1,j] + phi[i-1,j] \\\n",
    "                                 + phi[i,j+1] + phi[i,j-1])/4\n",
    "\n",
    "    # Calculate maximum difference from old values\n",
    "    delta = np.max(abs(phi-phiprime))\n",
    "\n",
    "    # Swap the two arrays around\n",
    "    phi,phiprime = phiprime,phi\n",
    "\n",
    "# Make a plot\n",
    "plt.imshow(phi)\n",
    "#gray()\n",
    "plt.show()\n"
   ]
  },
  {
   "cell_type": "code",
   "execution_count": null,
   "metadata": {
    "collapsed": true
   },
   "outputs": [],
   "source": []
  },
  {
   "cell_type": "markdown",
   "metadata": {},
   "source": [
    "## Quote:\n",
    ">`I do not know what I may appear to the world; but to myself I seem to have been only like a boy playing on the seashore, and diverting myself in now and then finding a smoother pebble or a prettier shell than ordinary, whilst the great ocean of truth lay all undiscovered before me. -Isaac Newton, From Brewster, Memoirs of Newton (1855)`\n"
   ]
  }
 ],
 "metadata": {
  "kernelspec": {
   "display_name": "Python 2",
   "language": "python",
   "name": "python2"
  },
  "language_info": {
   "codemirror_mode": {
    "name": "ipython",
    "version": 2
   },
   "file_extension": ".py",
   "mimetype": "text/x-python",
   "name": "python",
   "nbconvert_exporter": "python",
   "pygments_lexer": "ipython2",
   "version": "2.7.13"
  }
 },
 "nbformat": 4,
 "nbformat_minor": 2
}
